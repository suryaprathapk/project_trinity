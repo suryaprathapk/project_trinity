{
 "cells": [
  {
   "cell_type": "code",
   "execution_count": 2,
   "metadata": {},
   "outputs": [],
   "source": [
    "import sympy as sym"
   ]
  },
  {
   "cell_type": "code",
   "execution_count": null,
   "metadata": {},
   "outputs": [],
   "source": [
    "(sum_direct_sales_discounted*(1-prompt_pay_discount)) - (wac_proxy*(1-prompt_pay_discount*total_indirect_units)) - (12 Month Chargeback Dollars * Chargeback Sales Smoothing Ratio)"
   ]
  },
  {
   "cell_type": "code",
   "execution_count": null,
   "metadata": {},
   "outputs": [],
   "source": [
    "()"
   ]
  },
  {
   "cell_type": "code",
   "execution_count": 3,
   "metadata": {},
   "outputs": [
    {
     "ename": "NameError",
     "evalue": "name 'SUM' is not defined",
     "output_type": "error",
     "traceback": [
      "\u001b[1;31m---------------------------------------------------------------------------\u001b[0m",
      "\u001b[1;31mNameError\u001b[0m                                 Traceback (most recent call last)",
      "Cell \u001b[1;32mIn [3], line 5\u001b[0m\n\u001b[0;32m      3\u001b[0m x , y \u001b[39m=\u001b[39m sym\u001b[39m.\u001b[39msymbols(\u001b[39m'\u001b[39m\u001b[39mx y\u001b[39m\u001b[39m'\u001b[39m)\n\u001b[0;32m      4\u001b[0m DS1, DS2, IS, CB1, CB2, CB3, RB1, RB2, RB3, DS1_units, DS2_units, IS_units \u001b[39m=\u001b[39m sym\u001b[39m.\u001b[39msymbols(\u001b[39m'\u001b[39m\u001b[39mDS1 DS2 IS CB1 CB2 CB3 RB1 RB2 RB3 DS1_units DS2_units IS_units\u001b[39m\u001b[39m'\u001b[39m)\n\u001b[1;32m----> 5\u001b[0m AMP \u001b[39m=\u001b[39m (SUM(DS1)\u001b[39m+\u001b[39mDS2\u001b[39m-\u001b[39mIS\u001b[39m-\u001b[39mCB1\u001b[39m-\u001b[39mCB2\u001b[39m-\u001b[39mCB3\u001b[39m-\u001b[39mRB1\u001b[39m-\u001b[39mRB2\u001b[39m-\u001b[39mRB3\u001b[39m-\u001b[39mADJ1)\u001b[39m/\u001b[39m(DS1_units\u001b[39m+\u001b[39mDS2_units\u001b[39m-\u001b[39mIS_units)\n\u001b[0;32m      8\u001b[0m \u001b[39m#f = x**4+x*y**4\u001b[39;00m\n\u001b[0;32m      9\u001b[0m  \n\u001b[0;32m     10\u001b[0m \u001b[39m#Differentiating partially w.r.t x\u001b[39;00m\n\u001b[0;32m     11\u001b[0m derivative_f \u001b[39m=\u001b[39m AMP\u001b[39m.\u001b[39mdiff(DS1_units)\n",
      "\u001b[1;31mNameError\u001b[0m: name 'SUM' is not defined"
     ]
    }
   ],
   "source": [
    "\n",
    "#Derivatives of multivariable function\n",
    " \n",
    "x , y = sym.symbols('x y')\n",
    "DS1, DS2, IS, CB1, CB2, CB3, RB1, RB2, RB3, DS1_units, DS2_units, IS_units = sym.symbols('DS1 DS2 IS CB1 CB2 CB3 RB1 RB2 RB3 DS1_units DS2_units IS_units')\n",
    "AMP = (DS1+DS2-IS-CB1-CB2-CB3-RB1-RB2-RB3-ADJ1)/(DS1_units+DS2_units-IS_units)\n",
    "\n",
    "\n",
    "#f = x**4+x*y**4\n",
    " \n",
    "#Differentiating partially w.r.t x\n",
    "derivative_f = AMP.diff(DS1_units)\n",
    "derivative_f\n",
    "\n",
    "\n",
    "\n"
   ]
  },
  {
   "cell_type": "code",
   "execution_count": 2,
   "metadata": {},
   "outputs": [],
   "source": [
    "prev_month = {'DS1': 151488049.9,\n",
    " 'DS2': 695681923.406395,\n",
    " 'IS': 3018495986,\n",
    " 'CB1': 67709743.039990,\n",
    " 'CB2': 0,\n",
    " 'CB3': 0,\n",
    " 'RB1': 0,\n",
    " 'RB2': 0,\n",
    " 'RB3': 0,\n",
    " 'DS1_units': 1270296,\n",
    " 'DS2_units': 0,\n",
    " 'IS_units': 181080}\n",
    "\n",
    "curr_month = {'DS1': 161034744,\n",
    " 'DS2': 7327134.65,\n",
    " 'IS': 3018495986,\n",
    " 'CB1': 66352186.33,\n",
    " 'CB2': 0,\n",
    " 'CB3': 0,\n",
    " 'RB1': 0,\n",
    " 'RB2': 0,\n",
    " 'RB3': 0,\n",
    " 'DS1_units': 294045,\n",
    " 'DS2_units': 0,\n",
    " 'IS_units': 174048}\n",
    "\n",
    "# prev_month_list = list(month_01.values())\n",
    "# curr_month_list = list(month_02.values())\n",
    "# curr_month_list"
   ]
  },
  {
   "cell_type": "code",
   "execution_count": 3,
   "metadata": {},
   "outputs": [],
   "source": [
    "def calculate_AMP (DS1, DS2, IS, CB1, CB2, CB3, RB1, RB2, RB3, DS1_units, DS2_units, IS_units):\n",
    "    AMP = (DS1+DS2-IS-CB1-CB2-CB3-RB1-RB2-RB3)/(DS1_units+DS2_units-IS_units)\n",
    "    return AMP\n"
   ]
  },
  {
   "cell_type": "code",
   "execution_count": 4,
   "metadata": {},
   "outputs": [
    {
     "data": {
      "text/plain": [
       "-2055.639795718751"
      ]
     },
     "metadata": {},
     "output_type": "display_data"
    },
    {
     "data": {
      "text/plain": [
       "-24304.660063834926"
      ]
     },
     "metadata": {},
     "output_type": "display_data"
    }
   ],
   "source": [
    "\n",
    "prev_month_amp = calculate_AMP(prev_month['DS1'], prev_month['DS2'], prev_month['IS'], prev_month['CB1'], prev_month['CB2'], prev_month['CB3'],prev_month['RB1'],prev_month['RB2'],prev_month['RB3'],prev_month['DS1_units'],prev_month['DS2_units'],prev_month['IS_units'])\n",
    "curr_month_amp = calculate_AMP(curr_month['DS1'], curr_month['DS2'], curr_month['IS'], curr_month['CB1'], curr_month['CB2'], curr_month['CB3'],curr_month['RB1'],curr_month['RB2'],curr_month['RB3'],curr_month['DS1_units'],curr_month['DS2_units'],curr_month['IS_units'])\n",
    "display(prev_month_amp)\n",
    "display(curr_month_amp)"
   ]
  },
  {
   "cell_type": "code",
   "execution_count": 7,
   "metadata": {},
   "outputs": [
    {
     "data": {
      "text/plain": [
       "'PDE components'"
      ]
     },
     "metadata": {},
     "output_type": "display_data"
    },
    {
     "data": {
      "text/plain": [
       "{'DS1': 1/(DS1_units + DS2_units - IS_units),\n",
       " 'DS2': 1/(DS1_units + DS2_units - IS_units),\n",
       " 'IS': -1/(DS1_units + DS2_units - IS_units),\n",
       " 'CB1': -1/(DS1_units + DS2_units - IS_units),\n",
       " 'CB2': -1/(DS1_units + DS2_units - IS_units),\n",
       " 'CB3': -1/(DS1_units + DS2_units - IS_units),\n",
       " 'RB1': -1/(DS1_units + DS2_units - IS_units),\n",
       " 'RB2': -1/(DS1_units + DS2_units - IS_units),\n",
       " 'RB3': -1/(DS1_units + DS2_units - IS_units),\n",
       " 'DS1_units': -(-CB1 - CB2 - CB3 + DS1 + DS2 - IS - RB1 - RB2 - RB3)/(DS1_units + DS2_units - IS_units)**2,\n",
       " 'DS2_units': -(-CB1 - CB2 - CB3 + DS1 + DS2 - IS - RB1 - RB2 - RB3)/(DS1_units + DS2_units - IS_units)**2,\n",
       " 'IS_units': (-CB1 - CB2 - CB3 + DS1 + DS2 - IS - RB1 - RB2 - RB3)/(DS1_units + DS2_units - IS_units)**2}"
      ]
     },
     "metadata": {},
     "output_type": "display_data"
    },
    {
     "data": {
      "text/plain": [
       "'Previous month PDE components'"
      ]
     },
     "metadata": {},
     "output_type": "display_data"
    },
    {
     "data": {
      "text/plain": [
       "{'DS1': 9.180915447441095e-07,\n",
       " 'DS2': 9.180915447441095e-07,\n",
       " 'IS': -9.180915447441095e-07,\n",
       " 'CB1': -9.180915447441095e-07,\n",
       " 'CB2': -9.180915447441095e-07,\n",
       " 'CB3': -9.180915447441095e-07,\n",
       " 'RB1': -9.180915447441095e-07,\n",
       " 'RB2': -9.180915447441095e-07,\n",
       " 'RB3': -9.180915447441095e-07,\n",
       " 'DS1_units': 0.0018872655154888937,\n",
       " 'DS2_units': 0.0018872655154888937,\n",
       " 'IS_units': -0.0018872655154888937}"
      ]
     },
     "metadata": {},
     "output_type": "display_data"
    },
    {
     "data": {
      "text/plain": [
       "'Current month PDE components'"
      ]
     },
     "metadata": {},
     "output_type": "display_data"
    },
    {
     "data": {
      "text/plain": [
       "{'DS1': 8.33354167187513e-06,\n",
       " 'DS2': 8.33354167187513e-06,\n",
       " 'IS': -8.33354167187513e-06,\n",
       " 'CB1': -8.33354167187513e-06,\n",
       " 'CB2': -8.33354167187513e-06,\n",
       " 'CB3': -8.33354167187513e-06,\n",
       " 'RB1': -8.33354167187513e-06,\n",
       " 'RB2': -8.33354167187513e-06,\n",
       " 'RB3': -8.33354167187513e-06,\n",
       " 'DS1_units': 0.20254389746272763,\n",
       " 'DS2_units': 0.20254389746272763,\n",
       " 'IS_units': -0.20254389746272763}"
      ]
     },
     "metadata": {},
     "output_type": "display_data"
    }
   ],
   "source": [
    "component_list = list(prev_month.keys())\n",
    "pde_components = {}\n",
    "prev_month_pde_components = {}\n",
    "curr_month_pde_components = {}\n",
    "\n",
    "for item in component_list:\n",
    "    derivative_f = AMP.diff(item)\n",
    "    pde_components[item] = derivative_f\n",
    "    month_output = sym.lambdify(\n",
    "        [DS1, DS2, IS, CB1, CB2, CB3, RB1, RB2, RB3, DS1_units, DS2_units, IS_units], derivative_f)\n",
    "    prev_month_pde_components[item] = month_output(prev_month['DS1'], prev_month['DS2'], prev_month['IS'], prev_month['CB1'], prev_month['CB2'], prev_month['CB3'],\n",
    "                                                 prev_month['RB1'], prev_month['RB2'], prev_month['RB3'], prev_month['DS1_units'], prev_month['DS2_units'], prev_month['IS_units'])\n",
    "    curr_month_pde_components[item] = month_output(curr_month['DS1'], curr_month['DS2'], curr_month['IS'], curr_month['CB1'], curr_month['CB2'], curr_month['CB3'],\n",
    "                                                 curr_month['RB1'], curr_month['RB2'], curr_month['RB3'], curr_month['DS1_units'], curr_month['DS2_units'], curr_month['IS_units'])\n",
    "display(\"PDE components\")\n",
    "display(pde_components)\n",
    "display(\"Previous month PDE components\")\n",
    "display(prev_month_pde_components)\n",
    "display(\"Current month PDE components\")\n",
    "display(curr_month_pde_components)\n"
   ]
  },
  {
   "cell_type": "code",
   "execution_count": 12,
   "metadata": {},
   "outputs": [],
   "source": [
    "def month_on_month (prev_month, curr_month):\n",
    "    pct_change_dict = {}\n",
    "    for key in curr_month:\n",
    "        if prev_month[key] == 0:\n",
    "            pct_change_dict[key] = 0\n",
    "            continue\n",
    "        else:\n",
    "            pct_change_dict[key] = (curr_month[key] - prev_month[key])*100/prev_month[key]\n",
    "    return pct_change_dict\n",
    "\n",
    "def allowable_influencer_delta (pde_componenets, AMP, threshold):\n",
    "    allowable_delta_in_units = {}\n",
    "    for key in pde_componenets:\n",
    "        allowable_delta_in_units[key] = pde_componenets[key]*threshold*100/AMP\n",
    "\n",
    "    return allowable_delta_in_units        \n"
   ]
  },
  {
   "cell_type": "code",
   "execution_count": 13,
   "metadata": {},
   "outputs": [
    {
     "data": {
      "text/plain": [
       "{'DS1': -4.466208265943306e-07,\n",
       " 'DS2': -4.466208265943306e-07,\n",
       " 'IS': 4.466208265943306e-07,\n",
       " 'CB1': 4.466208265943306e-07,\n",
       " 'CB2': 4.466208265943306e-07,\n",
       " 'CB3': 4.466208265943306e-07,\n",
       " 'RB1': 4.466208265943306e-07,\n",
       " 'RB2': 4.466208265943306e-07,\n",
       " 'RB3': 4.466208265943306e-07,\n",
       " 'DS1_units': -0.0009180915447441095,\n",
       " 'DS2_units': -0.0009180915447441095,\n",
       " 'IS_units': 0.0009180915447441095}"
      ]
     },
     "execution_count": 13,
     "metadata": {},
     "output_type": "execute_result"
    }
   ],
   "source": [
    "allowable_delta = allowable_influencer_delta(prev_month_pde_components, prev_month_amp, threshold =10)\n",
    "allowable_delta"
   ]
  },
  {
   "cell_type": "code",
   "execution_count": 14,
   "metadata": {},
   "outputs": [
    {
     "data": {
      "text/plain": [
       "{'DS1': 6.3019453391220885,\n",
       " 'DS2': -98.94676943535879,\n",
       " 'IS': 0.0,\n",
       " 'CB1': -2.0049650892755704,\n",
       " 'CB2': 0,\n",
       " 'CB3': 0,\n",
       " 'RB1': 0,\n",
       " 'RB2': 0,\n",
       " 'RB3': 0,\n",
       " 'DS1_units': -76.85224546090045,\n",
       " 'DS2_units': 0,\n",
       " 'IS_units': -3.8833664678595095}"
      ]
     },
     "execution_count": 14,
     "metadata": {},
     "output_type": "execute_result"
    }
   ],
   "source": [
    "delta_dict = month_on_month(prev_month, curr_month)\n",
    "delta_dict"
   ]
  },
  {
   "cell_type": "code",
   "execution_count": 15,
   "metadata": {},
   "outputs": [],
   "source": [
    "def analyze_influencers(delta_dict):\n",
    "    response_dict ={}\n",
    "    for key in delta_dict.keys():\n",
    "        if abs(delta_dict[key]) > abs(allowable_delta[key]): # instead of 10 here put up a variable with allowable change DS1 can go thru to cause this\n",
    "            response_dict[key] =\" A change of {} % in {} may have caused the change in AMP\".format(delta_dict[key], key)\n",
    "        # if delta_dict[key] < allowable_delta[key]:\n",
    "        #     response_dict[key] =\" A change of {} % in {} may have caused the change in AMP\".format(delta_dict[key], key)\n",
    "        else:\n",
    "            continue\n",
    "    return response_dict\n"
   ]
  },
  {
   "cell_type": "code",
   "execution_count": 16,
   "metadata": {},
   "outputs": [],
   "source": [
    "def influencer(prev_amp, curr_amp, prev_month, curr_month, threshold):\n",
    "    diff_amp = abs((curr_amp-prev_amp)*100/prev_amp)\n",
    "    diff_in_influencers = month_on_month(prev_month, curr_month)\n",
    "    if diff_amp <10:\n",
    "        print(\"No significant influencer found, below the the month on month comparision of components \\n\")\n",
    "        return diff_in_influencers\n",
    "    elif  diff_amp >10:\n",
    "        print(\"There seems to be a big delta in one of the influencers, full information below\")\n",
    "        #return diff_in_influencers\n",
    "        return analyze_influencers(month_on_month(prev_month, curr_month))\n",
    "    else:\n",
    "        return \"No significant influencers\"\n"
   ]
  },
  {
   "cell_type": "code",
   "execution_count": 18,
   "metadata": {},
   "outputs": [
    {
     "name": "stdout",
     "output_type": "stream",
     "text": [
      "There seems to be a big delta in one of the influencers, full information below\n",
      "{'CB1': ' A change of -2.0049650892755704 % in CB1 may have caused the change '\n",
      "        'in AMP',\n",
      " 'DS1': ' A change of 6.3019453391220885 % in DS1 may have caused the change '\n",
      "        'in AMP',\n",
      " 'DS1_units': ' A change of -76.85224546090045 % in DS1_units may have caused '\n",
      "              'the change in AMP',\n",
      " 'DS2': ' A change of -98.94676943535879 % in DS2 may have caused the change '\n",
      "        'in AMP',\n",
      " 'IS_units': ' A change of -3.8833664678595095 % in IS_units may have caused '\n",
      "             'the change in AMP'}\n"
     ]
    }
   ],
   "source": [
    "from pprint import pprint\n",
    "pprint(influencer(2, 4, prev_month, curr_month, 10))"
   ]
  },
  {
   "cell_type": "code",
   "execution_count": null,
   "metadata": {},
   "outputs": [],
   "source": []
  }
 ],
 "metadata": {
  "kernelspec": {
   "display_name": "Python 3",
   "language": "python",
   "name": "python3"
  },
  "language_info": {
   "codemirror_mode": {
    "name": "ipython",
    "version": 3
   },
   "file_extension": ".py",
   "mimetype": "text/x-python",
   "name": "python",
   "nbconvert_exporter": "python",
   "pygments_lexer": "ipython3",
   "version": "3.9.13"
  },
  "orig_nbformat": 4,
  "vscode": {
   "interpreter": {
    "hash": "b447d304921c431a2eccc708113420f31e2373d77cbed950b134111672ad088e"
   }
  }
 },
 "nbformat": 4,
 "nbformat_minor": 2
}
