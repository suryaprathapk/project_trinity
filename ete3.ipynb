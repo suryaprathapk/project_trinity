{
 "cells": [
  {
   "cell_type": "code",
   "execution_count": 16,
   "metadata": {},
   "outputs": [],
   "source": [
    "from ete3 import Tree"
   ]
  },
  {
   "cell_type": "code",
   "execution_count": 9,
   "metadata": {},
   "outputs": [],
   "source": [
    "# formula1 = \"Net_dollars/Net_units)\"\n",
    "# formula2 = \"DS1$ + DS2$ + DS3$ - IS1$ - IS2$ - CB1$ - CB2$ - RB1$ - RB2$ - RB3$\"\n",
    "# formula3 = \"DS2+DS2+DS3-IS1-IS2\"\n",
    "# # param =''\n",
    "# # for char in formula1:\n",
    "# #     if char in \"ABCDEFGHIJKLMNOPQRSTUVWXYZabcdefghijklmnopqrstuvwxyz1234567890$ \":\n",
    "# #         param  += char\n",
    "# #         continue\n",
    "# #     elif char in \"+-*/^\":\n",
    "# #         param = t.add_child(name=\"{}\".format(param))\n",
    "# #         param =\"\"\n",
    "\n"
   ]
  },
  {
   "cell_type": "code",
   "execution_count": 17,
   "metadata": {},
   "outputs": [],
   "source": [
    "def fill_tree(parent_node, formula_input):\n",
    "    param =''\n",
    "    for char in formula_input:\n",
    "        if char in \"ABCDEFGHIJKLMNOPQRSTUVWXYZabcdefghijklmnopqrstuvwxyz1234567890$_ \":\n",
    "            param  += char\n",
    "        elif char in \"+-*\\/^\":\n",
    "            param = parent_node.add_child(name=\"{}\".format(param))\n",
    "            param =\"\"\n",
    "    if param:\n",
    "        param = parent_node.add_child(name=\"{}\".format(param))\n",
    "        param =\"\""
   ]
  },
  {
   "cell_type": "code",
   "execution_count": 21,
   "metadata": {},
   "outputs": [],
   "source": [
    "t=Tree()\n",
    "formula1 = \"Net_dollars/Net_units\"\n",
    "Net_dollars = \"DS1$ + DS2$ + DS3$ - IS1$ - IS2$ - CB1$ - CB2$ - RB1$ - RB2$ - RB3$\"\n",
    "Net_units = \"DS1+DS2+DS3-IS1-IS2\"\n",
    "DS1 = \"x1+y1+z1\"\n",
    "DS2 = \"x2+y2+z2\"\n",
    "DS3 = \"x3+y3+z3\"\n",
    "IS1 = \"i1+j1+k1\"\n",
    "IS2 = \"i2+j2+k2\"\n"
   ]
  },
  {
   "cell_type": "code",
   "execution_count": 22,
   "metadata": {},
   "outputs": [
    {
     "name": "stdout",
     "output_type": "stream",
     "text": [
      "\n",
      "              /-DS1$ \n",
      "             |\n",
      "             |-- DS2$ \n",
      "             |\n",
      "             |-- DS3$ \n",
      "             |\n",
      "             |-- IS1$ \n",
      "             |\n",
      "             |-- IS2$ \n",
      "   /Net_dollars\n",
      "  |          |-- CB1$ \n",
      "  |          |\n",
      "  |          |-- CB2$ \n",
      "  |          |\n",
      "  |          |-- RB1$ \n",
      "  |          |\n",
      "  |          |-- RB2$ \n",
      "  |          |\n",
      "  |           \\- RB3$\n",
      "  |\n",
      "  |            /-x1\n",
      "--|           |\n",
      "  |         /DS1-y1\n",
      "  |        |  |\n",
      "  |        |   \\-z1\n",
      "  |        |\n",
      "  |        |   /-x2\n",
      "  |        |  |\n",
      "  |        |-DS2-y2\n",
      "  |        |  |\n",
      "  |        |   \\-z2\n",
      "  |        |\n",
      "  |        |   /-x3\n",
      "  |        |  |\n",
      "   \\Net_unitsDS3-y3\n",
      "           |  |\n",
      "           |   \\-z3\n",
      "           |\n",
      "           |   /-i1\n",
      "           |  |\n",
      "           |-IS1-j1\n",
      "           |  |\n",
      "           |   \\-k1\n",
      "           |\n",
      "           |   /-i2\n",
      "           |  |\n",
      "            \\IS2-j2\n",
      "              |\n",
      "               \\-k2\n"
     ]
    }
   ],
   "source": [
    "\n",
    "fill_tree(t, formula1)\n",
    "#print(t)\n",
    "fill_tree(t.search_nodes(name='Net_dollars')[0], Net_dollars)\n",
    "#print(t)\n",
    "fill_tree(t.search_nodes(name='Net_units')[0], Net_units)\n",
    "fill_tree(t.search_nodes(name='DS1')[0], DS1)\n",
    "fill_tree(t.search_nodes(name='DS2')[0], DS2)\n",
    "fill_tree(t.search_nodes(name='DS3')[0], DS3)\n",
    "fill_tree(t.search_nodes(name='IS1')[0], IS1)\n",
    "fill_tree(t.search_nodes(name='IS2')[0], IS2)\n",
    "print(t.get_ascii(show_internal=True))"
   ]
  },
  {
   "cell_type": "code",
   "execution_count": 7,
   "metadata": {},
   "outputs": [
    {
     "name": "stdout",
     "output_type": "stream",
     "text": [
      "\n",
      "       /-DS1$ \n",
      "      |\n",
      "      |-- DS2$ \n",
      "      |\n",
      "      |-- DS3$ \n",
      "      |\n",
      "      |-- IS1$ \n",
      "      |\n",
      "      |-- IS2$ \n",
      "   /Net$\n",
      "  |   |-- CB1$ \n",
      "  |   |\n",
      "  |   |-- CB2$ \n",
      "  |   |\n",
      "  |   |-- RB1$ \n",
      "  |   |\n",
      "--|   |-- RB2$ \n",
      "  |   |\n",
      "  |    \\- RB3$\n",
      "  |\n",
      "  |         /-DS2\n",
      "  |        |\n",
      "  |        |--DS2\n",
      "  |        |\n",
      "   \\Net_units-DS3\n",
      "           |\n",
      "           |--IS1\n",
      "           |\n",
      "            \\-IS2\n"
     ]
    }
   ],
   "source": [
    "print(t.get_ascii(show_internal=True))"
   ]
  },
  {
   "cell_type": "code",
   "execution_count": null,
   "metadata": {
    "collapsed": false
   },
   "outputs": [],
   "source": []
  }
 ],
 "metadata": {
  "kernelspec": {
   "display_name": "Python 3",
   "language": "python",
   "name": "python3"
  },
  "language_info": {
   "codemirror_mode": {
    "name": "ipython",
    "version": 3
   },
   "file_extension": ".py",
   "mimetype": "text/x-python",
   "name": "python",
   "nbconvert_exporter": "python",
   "pygments_lexer": "ipython3",
   "version": "3.9.13 (tags/v3.9.13:6de2ca5, May 17 2022, 16:36:42) [MSC v.1929 64 bit (AMD64)]"
  },
  "orig_nbformat": 4,
  "vscode": {
   "interpreter": {
    "hash": "b447d304921c431a2eccc708113420f31e2373d77cbed950b134111672ad088e"
   }
  }
 },
 "nbformat": 4,
 "nbformat_minor": 2
}
