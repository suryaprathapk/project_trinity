{
 "cells": [
  {
   "cell_type": "code",
   "execution_count": 3,
   "metadata": {},
   "outputs": [],
   "source": [
    "from ete3 import Tree, TreeStyle"
   ]
  },
  {
   "cell_type": "code",
   "execution_count": 4,
   "metadata": {},
   "outputs": [],
   "source": [
    "def fill_tree(parent_node, formula_input):\n",
    "    param =''\n",
    "    for char in formula_input:\n",
    "        if char in \"ABCDEFGHIJKLMNOPQRSTUVWXYZabcdefghijklmnopqrstuvwxyz1234567890$_ \":\n",
    "            param  += char\n",
    "        elif char in \"+-*\\/^\":\n",
    "            param = parent_node.add_child(name=\"{}\".format(param))\n",
    "            param =\"\"\n",
    "        elif char in \"()\":\n",
    "            continue\n",
    "    if param:\n",
    "        param = parent_node.add_child(name=\"{}\".format(param))\n",
    "        param =\"\"\n"
   ]
  },
  {
   "cell_type": "code",
   "execution_count": 7,
   "metadata": {},
   "outputs": [],
   "source": [
    "\n",
    "input_formula = {\n",
    "\"net_$\": \"total_direct_sales$-total_indirect_sales$-total_chargebacks$-total_rebate_fee$-smoothed_excludable_rebates$-total_adjustments$\",\n",
    "\"net_units\": \"total_direct_units-total_indirect_units-wholesaler_excludable_rebate_units\",\n",
    "\"total_direct_sales$\": \"direct_sale_discounted_customer$ *(1-prompt_pay_discount)\",\n",
    "\"total_indirect_sales$\": \"wac_proxy * 1-prompt_pay_discount * total_indirect_units\",\n",
    "\"total_direct_units\": \"12_month_indirect_sales_packages * indirect_sales_smoothing_ratio\",\n",
    "\"12_month_indirect_sales_packages\": \"12_month_indirect_sales*quantity - 12_month_nominal_end_excluded_values*indirect_sales_units\",\n",
    "\"total_indirect_units\" : \"12_month_indirect_sales_packages*indirect_sales_smoothing_ratio\",\n",
    "\"wholesaler_excludable_rebate_units\": \"end_of_period_WAC_amount * excludable_wholesaler_rebate_transaction-quantity\"\n",
    "}\n"
   ]
  },
  {
   "cell_type": "code",
   "execution_count": 8,
   "metadata": {},
   "outputs": [
    {
     "data": {
      "text/plain": [
       "\"node 12_month_indirect_sales_packages doesn't exist in tree\""
      ]
     },
     "metadata": {},
     "output_type": "display_data"
    },
    {
     "name": "stdout",
     "output_type": "stream",
     "text": [
      "\n",
      "                           /-direct_sale_discounted_customer$ \n",
      "                          |\n",
      "        /total_direct_sales$-1\n",
      "       |                  |\n",
      "       |                   \\-prompt_pay_discount\n",
      "       |\n",
      "       |                     /-wac_proxy \n",
      "       |                    |\n",
      "       |                    |-- 1\n",
      "       |-total_indirect_sales$\n",
      "       |                    |--prompt_pay_discount \n",
      "   /net_$                   |\n",
      "  |    |                     \\- total_indirect_units\n",
      "  |    |\n",
      "  |    |--total_chargebacks$\n",
      "  |    |\n",
      "  |    |--total_rebate_fee$\n",
      "  |    |\n",
      "  |    |--smoothed_excludable_rebates$\n",
      "--|    |\n",
      "  |     \\-total_adjustments$\n",
      "  |\n",
      "  |                           /-12_month_indirect_sales_packages \n",
      "  |         /total_direct_units\n",
      "  |        |                  \\- indirect_sales_smoothing_ratio\n",
      "  |        |\n",
      "  |        |                    /-12_month_indirect_sales_packages\n",
      "   \\net_unitstotal_indirect_units\n",
      "           |                    \\-indirect_sales_smoothing_ratio\n",
      "           |\n",
      "           |                                  /-end_of_period_WAC_amount \n",
      "           |                                 |\n",
      "            \\wholesaler_excludable_rebate_units- excludable_wholesaler_rebate_transaction\n",
      "                                             |\n",
      "                                              \\-quantity\n"
     ]
    }
   ],
   "source": [
    "AMP =Tree()\n",
    "fill_tree(AMP, \"net_$/net_units\")\n",
    "for key, value in input_formula.items():\n",
    "    try:\n",
    "        if AMP.search_nodes(name = key)[0] :\n",
    "            fill_tree(AMP.search_nodes(name = key)[0], value)\n",
    "    except:\n",
    "        display(\"node {} doesn't exist in tree\".format(key))\n",
    "\n",
    "print(AMP.get_ascii(show_internal=True))"
   ]
  },
  {
   "cell_type": "code",
   "execution_count": 44,
   "metadata": {},
   "outputs": [],
   "source": [
    "ts = TreeStyle()\n",
    "AMP.show(tree_style=ts)"
   ]
  },
  {
   "cell_type": "code",
   "execution_count": 17,
   "metadata": {},
   "outputs": [],
   "source": [
    "formula1 = \"Net_dollars/Net_units\"\n",
    "input_formula2 = {\"net_dollars\" : \"DS1$ + DS2$ + DS3$-IS1$-IS2$-CB1$-CB2$-RB1$-RB2$-RB3$\",\n",
    "\"net_units\" : \"DS1+DS2+DS3-IS1-IS2\",\n",
    "\"DS1\" : \"x1+y1+z1\",\n",
    "\"DS2\" : \"x2+y2+z2\",\n",
    "\"DS3\" : \"x3+y3+z3\",\n",
    "\"IS1\" : \"i1+j1+k1\",\n",
    "\"IS2\" : \"i2+j2+k2\"}\n"
   ]
  },
  {
   "cell_type": "code",
   "execution_count": 7,
   "metadata": {},
   "outputs": [
    {
     "name": "stdout",
     "output_type": "stream",
     "text": [
      "\n",
      "       /-DS1$ \n",
      "      |\n",
      "      |-- DS2$ \n",
      "      |\n",
      "      |-- DS3$ \n",
      "      |\n",
      "      |-- IS1$ \n",
      "      |\n",
      "      |-- IS2$ \n",
      "   /Net$\n",
      "  |   |-- CB1$ \n",
      "  |   |\n",
      "  |   |-- CB2$ \n",
      "  |   |\n",
      "  |   |-- RB1$ \n",
      "  |   |\n",
      "--|   |-- RB2$ \n",
      "  |   |\n",
      "  |    \\- RB3$\n",
      "  |\n",
      "  |         /-DS2\n",
      "  |        |\n",
      "  |        |--DS2\n",
      "  |        |\n",
      "   \\Net_units-DS3\n",
      "           |\n",
      "           |--IS1\n",
      "           |\n",
      "            \\-IS2\n"
     ]
    }
   ],
   "source": [
    "print(t.get_ascii(show_internal=True))"
   ]
  },
  {
   "cell_type": "code",
   "execution_count": null,
   "metadata": {
    "collapsed": false
   },
   "outputs": [],
   "source": []
  }
 ],
 "metadata": {
  "kernelspec": {
   "display_name": "Python 3",
   "language": "python",
   "name": "python3"
  },
  "language_info": {
   "codemirror_mode": {
    "name": "ipython",
    "version": 3
   },
   "file_extension": ".py",
   "mimetype": "text/x-python",
   "name": "python",
   "nbconvert_exporter": "python",
   "pygments_lexer": "ipython3",
   "version": "3.9.13"
  },
  "orig_nbformat": 4,
  "vscode": {
   "interpreter": {
    "hash": "b447d304921c431a2eccc708113420f31e2373d77cbed950b134111672ad088e"
   }
  }
 },
 "nbformat": 4,
 "nbformat_minor": 2
}
