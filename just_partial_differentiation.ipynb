{
 "cells": [
  {
   "cell_type": "code",
   "execution_count": 1,
   "metadata": {},
   "outputs": [],
   "source": [
    "import sympy as sym"
   ]
  },
  {
   "cell_type": "code",
   "execution_count": 138,
   "metadata": {},
   "outputs": [],
   "source": [
    "# import sympy as sym\n",
    " \n",
    "# #Power rule\n",
    "# x, y = sym.symbols('x y')\n",
    "# #f = x**4*y**2+x**2*y**2 #x^4y^2 + x^2y^2\n",
    "# f= x+y\n",
    "# derivative_f = f.diff(y)\n",
    "# derivative_f"
   ]
  },
  {
   "cell_type": "code",
   "execution_count": 139,
   "metadata": {},
   "outputs": [],
   "source": [
    "\n",
    "#Derivatives of multivariable function\n",
    " \n",
    "x , y = sym.symbols('x y')\n",
    "DS1, DS2, IS, CB1, CB2, CB3, RB1, RB2, RB3, DS1_units, DS2_units, IS_units = sym.symbols('DS1 DS2 IS CB1 CB2 CB3 RB1 RB2 RB3 DS1_units DS2_units IS_units')\n",
    "AMP = (DS1+DS2-IS-CB1-CB2-CB3-RB1-RB2-RB3)/(DS1_units+DS2_units-IS_units)\n",
    "\n",
    "#f = x**4+x*y**4\n",
    " \n",
    "# #Differentiating partially w.r.t x\n",
    "# derivative_f = AMP.diff(DS1_units)\n",
    "# derivative_f\n"
   ]
  },
  {
   "cell_type": "code",
   "execution_count": 167,
   "metadata": {},
   "outputs": [
    {
     "data": {
      "text/plain": [
       "[650, 300, 200, 25, 50, 75, 150, 80, 70, 65, 30, 20]"
      ]
     },
     "execution_count": 167,
     "metadata": {},
     "output_type": "execute_result"
    }
   ],
   "source": [
    "prev_month = {'DS1': 400,\n",
    " 'DS2': 300,\n",
    " 'IS': 200,\n",
    " 'CB1': 25,\n",
    " 'CB2': 50,\n",
    " 'CB3': 75,\n",
    " 'RB1': 100,\n",
    " 'RB2': 80,\n",
    " 'RB3': 70,\n",
    " 'DS1_units': 40,\n",
    " 'DS2_units': 30,\n",
    " 'IS_units': 20}\n",
    "\n",
    "curr_month = {'DS1': 650,\n",
    " 'DS2': 300,\n",
    " 'IS': 200,\n",
    " 'CB1': 25,\n",
    " 'CB2': 50,\n",
    " 'CB3': 75,\n",
    " 'RB1': 150,\n",
    " 'RB2': 80,\n",
    " 'RB3': 70,\n",
    " 'DS1_units': 65,\n",
    " 'DS2_units': 30,\n",
    " 'IS_units': 20}\n",
    "\n",
    "# prev_month_list = list(month_01.values())\n",
    "# curr_month_list = list(month_02.values())\n",
    "# curr_month_list"
   ]
  },
  {
   "cell_type": "code",
   "execution_count": 146,
   "metadata": {},
   "outputs": [],
   "source": [
    "def calculate_AMP (DS1, DS2, IS, CB1, CB2, CB3, RB1, RB2, RB3, DS1_units, DS2_units, IS_units):\n",
    "    AMP = (DS1+DS2-IS-CB1-CB2-CB3-RB1-RB2-RB3)/(DS1_units+DS2_units-IS_units)\n",
    "    return AMP\n"
   ]
  },
  {
   "cell_type": "code",
   "execution_count": 171,
   "metadata": {},
   "outputs": [
    {
     "data": {
      "text/plain": [
       "2.0"
      ]
     },
     "metadata": {},
     "output_type": "display_data"
    },
    {
     "data": {
      "text/plain": [
       "4.0"
      ]
     },
     "metadata": {},
     "output_type": "display_data"
    }
   ],
   "source": [
    "\n",
    "prev_month_amp = calculate_AMP(prev_month['DS1'], prev_month['DS2'], prev_month['IS'], prev_month['CB1'], prev_month['CB2'], prev_month['CB3'],prev_month['RB1'],prev_month['RB2'],prev_month['RB3'],prev_month['DS1_units'],prev_month['DS2_units'],prev_month['IS_units'])\n",
    "curr_month_amp = calculate_AMP(curr_month['DS1'], curr_month['DS2'], curr_month['IS'], curr_month['CB1'], curr_month['CB2'], curr_month['CB3'],curr_month['RB1'],curr_month['RB2'],curr_month['RB3'],curr_month['DS1_units'],curr_month['DS2_units'],curr_month['IS_units'])\n",
    "display(prev_month_amp)\n",
    "display(curr_month_amp)"
   ]
  },
  {
   "cell_type": "code",
   "execution_count": 179,
   "metadata": {},
   "outputs": [
    {
     "data": {
      "text/plain": [
       "'PDE components'"
      ]
     },
     "metadata": {},
     "output_type": "display_data"
    },
    {
     "data": {
      "text/plain": [
       "{'DS1': 1/(DS1_units + DS2_units - IS_units),\n",
       " 'DS2': 1/(DS1_units + DS2_units - IS_units),\n",
       " 'IS': -1/(DS1_units + DS2_units - IS_units),\n",
       " 'CB1': -1/(DS1_units + DS2_units - IS_units),\n",
       " 'CB2': -1/(DS1_units + DS2_units - IS_units),\n",
       " 'CB3': -1/(DS1_units + DS2_units - IS_units),\n",
       " 'RB1': -1/(DS1_units + DS2_units - IS_units),\n",
       " 'RB2': -1/(DS1_units + DS2_units - IS_units),\n",
       " 'RB3': -1/(DS1_units + DS2_units - IS_units),\n",
       " 'DS1_units': -(-CB1 - CB2 - CB3 + DS1 + DS2 - IS - RB1 - RB2 - RB3)/(DS1_units + DS2_units - IS_units)**2,\n",
       " 'DS2_units': -(-CB1 - CB2 - CB3 + DS1 + DS2 - IS - RB1 - RB2 - RB3)/(DS1_units + DS2_units - IS_units)**2,\n",
       " 'IS_units': (-CB1 - CB2 - CB3 + DS1 + DS2 - IS - RB1 - RB2 - RB3)/(DS1_units + DS2_units - IS_units)**2}"
      ]
     },
     "metadata": {},
     "output_type": "display_data"
    },
    {
     "data": {
      "text/plain": [
       "'Previous month PDE components'"
      ]
     },
     "metadata": {},
     "output_type": "display_data"
    },
    {
     "data": {
      "text/plain": [
       "{'DS1': 0.02,\n",
       " 'DS2': 0.02,\n",
       " 'IS': -0.02,\n",
       " 'CB1': -0.02,\n",
       " 'CB2': -0.02,\n",
       " 'CB3': -0.02,\n",
       " 'RB1': -0.02,\n",
       " 'RB2': -0.02,\n",
       " 'RB3': -0.02,\n",
       " 'DS1_units': -0.04,\n",
       " 'DS2_units': -0.04,\n",
       " 'IS_units': 0.04}"
      ]
     },
     "metadata": {},
     "output_type": "display_data"
    },
    {
     "data": {
      "text/plain": [
       "'Current month PDE components'"
      ]
     },
     "metadata": {},
     "output_type": "display_data"
    },
    {
     "data": {
      "text/plain": [
       "{'DS1': 0.013333333333333334,\n",
       " 'DS2': 0.013333333333333334,\n",
       " 'IS': -0.013333333333333334,\n",
       " 'CB1': -0.013333333333333334,\n",
       " 'CB2': -0.013333333333333334,\n",
       " 'CB3': -0.013333333333333334,\n",
       " 'RB1': -0.013333333333333334,\n",
       " 'RB2': -0.013333333333333334,\n",
       " 'RB3': -0.013333333333333334,\n",
       " 'DS1_units': -0.05333333333333334,\n",
       " 'DS2_units': -0.05333333333333334,\n",
       " 'IS_units': 0.05333333333333334}"
      ]
     },
     "metadata": {},
     "output_type": "display_data"
    }
   ],
   "source": [
    "component_list = list(prev_month.keys())\n",
    "pde_components = {}\n",
    "prev_month_pde_components = {}\n",
    "curr_month_pde_components = {}\n",
    "\n",
    "for item in component_list:\n",
    "    derivative_f = AMP.diff(item)\n",
    "    pde_components[item] = derivative_f\n",
    "    month_output = sym.lambdify(\n",
    "        [DS1, DS2, IS, CB1, CB2, CB3, RB1, RB2, RB3, DS1_units, DS2_units, IS_units], derivative_f)\n",
    "    prev_month_pde_components[item] = month_output(prev_month['DS1'], prev_month['DS2'], prev_month['IS'], prev_month['CB1'], prev_month['CB2'], prev_month['CB3'],\n",
    "                                                 prev_month['RB1'], prev_month['RB2'], prev_month['RB3'], prev_month['DS1_units'], prev_month['DS2_units'], prev_month['IS_units'])\n",
    "    curr_month_pde_components[item] = month_output(curr_month['DS1'], curr_month['DS2'], curr_month['IS'], curr_month['CB1'], curr_month['CB2'], curr_month['CB3'],\n",
    "                                                 curr_month['RB1'], curr_month['RB2'], curr_month['RB3'], curr_month['DS1_units'], curr_month['DS2_units'], curr_month['IS_units'])\n",
    "display(\"PDE components\")\n",
    "display(pde_components)\n",
    "display(\"Previous month PDE components\")\n",
    "display(prev_month_pde_components)\n",
    "display(\"Current month PDE components\")\n",
    "display(curr_month_pde_components)\n"
   ]
  },
  {
   "cell_type": "code",
   "execution_count": 180,
   "metadata": {},
   "outputs": [],
   "source": [
    "def month_on_month (prev_month, curr_month):\n",
    "    pct_change_dict = {}\n",
    "    for key in curr_month:\n",
    "        pct_change_dict[key] = (curr_month[key] - prev_month[key])*100/prev_month[key]\n",
    "    return pct_change_dict\n",
    "\n",
    "def allowable_influencer_delta (pde_componenets, AMP, threshold):\n",
    "    allowable_delta_in_units = {}\n",
    "    for key in pde_componenets:\n",
    "        allowable_delta_in_units[key] = pde_componenets[key]*threshold*100/AMP\n",
    "\n",
    "    return allowable_delta_in_units        \n"
   ]
  },
  {
   "cell_type": "code",
   "execution_count": 181,
   "metadata": {},
   "outputs": [
    {
     "data": {
      "text/plain": [
       "{'DS1': 10.0,\n",
       " 'DS2': 10.0,\n",
       " 'IS': -10.0,\n",
       " 'CB1': -10.0,\n",
       " 'CB2': -10.0,\n",
       " 'CB3': -10.0,\n",
       " 'RB1': -10.0,\n",
       " 'RB2': -10.0,\n",
       " 'RB3': -10.0,\n",
       " 'DS1_units': -20.0,\n",
       " 'DS2_units': -20.0,\n",
       " 'IS_units': 20.0}"
      ]
     },
     "execution_count": 181,
     "metadata": {},
     "output_type": "execute_result"
    }
   ],
   "source": [
    "allowable_delta = allowable_influencer_delta(prev_month_pde_components, prev_month_amp, threshold =10)\n",
    "allowable_delta"
   ]
  },
  {
   "cell_type": "code",
   "execution_count": 182,
   "metadata": {},
   "outputs": [
    {
     "data": {
      "text/plain": [
       "{'DS1': 62.5,\n",
       " 'DS2': 0.0,\n",
       " 'IS': 0.0,\n",
       " 'CB1': 0.0,\n",
       " 'CB2': 0.0,\n",
       " 'CB3': 0.0,\n",
       " 'RB1': 50.0,\n",
       " 'RB2': 0.0,\n",
       " 'RB3': 0.0,\n",
       " 'DS1_units': 62.5,\n",
       " 'DS2_units': 0.0,\n",
       " 'IS_units': 0.0}"
      ]
     },
     "execution_count": 182,
     "metadata": {},
     "output_type": "execute_result"
    }
   ],
   "source": [
    "delta_dict = month_on_month(month_01, month_02)\n",
    "delta_dict"
   ]
  },
  {
   "cell_type": "code",
   "execution_count": 194,
   "metadata": {},
   "outputs": [],
   "source": [
    "def analyze_influencers(delta_dict):\n",
    "    response_dict ={}\n",
    "    for key in delta_dict.keys():\n",
    "        if abs(delta_dict[key]) > abs(allowable_delta[key]): # instead of 10 here put up a variable with allowable change DS1 can go thru to cause this\n",
    "            response_dict[key] =\" A change of {} % in {} may have caused the change in AMP\".format(delta_dict[key], key)\n",
    "        # if delta_dict[key] < allowable_delta[key]:\n",
    "        #     response_dict[key] =\" A change of {} % in {} may have caused the change in AMP\".format(delta_dict[key], key)\n",
    "        else:\n",
    "            continue\n",
    "    return response_dict\n"
   ]
  },
  {
   "cell_type": "code",
   "execution_count": 196,
   "metadata": {},
   "outputs": [],
   "source": [
    "def influencer(prev_amp, curr_amp, prev_month, curr_month, threshold):\n",
    "    diff_amp = abs((curr_amp-prev_amp)*100/prev_amp)\n",
    "    diff_in_influencers = month_on_month(prev_month, curr_month)\n",
    "    if diff_amp <10:\n",
    "        print(\"No significant influencer found, below the the month on month comparision of components \\n\")\n",
    "        return diff_in_influencers\n",
    "    elif  diff_amp >10:\n",
    "        print(\"There seems to be a big delta in one of the influencers, full information below\")\n",
    "        #return diff_in_influencers\n",
    "        return analyze_influencers(month_on_month(prev_month, curr_month))\n",
    "    else:\n",
    "        return \"No significant influencers\"\n"
   ]
  },
  {
   "cell_type": "code",
   "execution_count": 197,
   "metadata": {},
   "outputs": [
    {
     "name": "stdout",
     "output_type": "stream",
     "text": [
      "There seems to be a big delta in one of the influencers, full information below\n",
      "{'DS1': ' A change of 62.5 % in DS1 may have caused the change in AMP',\n",
      " 'DS1_units': ' A change of 62.5 % in DS1_units may have caused the change in '\n",
      "              'AMP',\n",
      " 'RB1': ' A change of 50.0 % in RB1 may have caused the change in AMP'}\n"
     ]
    }
   ],
   "source": [
    "from pprint import pprint\n",
    "pprint(influencer(2, 4, month_01, month_02, 10))"
   ]
  }
 ],
 "metadata": {
  "kernelspec": {
   "display_name": "Python 3",
   "language": "python",
   "name": "python3"
  },
  "language_info": {
   "codemirror_mode": {
    "name": "ipython",
    "version": 3
   },
   "file_extension": ".py",
   "mimetype": "text/x-python",
   "name": "python",
   "nbconvert_exporter": "python",
   "pygments_lexer": "ipython3",
   "version": "3.9.13"
  },
  "orig_nbformat": 4,
  "vscode": {
   "interpreter": {
    "hash": "b447d304921c431a2eccc708113420f31e2373d77cbed950b134111672ad088e"
   }
  }
 },
 "nbformat": 4,
 "nbformat_minor": 2
}
